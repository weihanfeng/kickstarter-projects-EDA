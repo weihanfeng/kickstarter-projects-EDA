{
 "cells": [
  {
   "cell_type": "markdown",
   "metadata": {},
   "source": [
    "# Kickstarter dataset Analysis"
   ]
  },
  {
   "cell_type": "markdown",
   "metadata": {},
   "source": [
    "## Background"
   ]
  },
  {
   "cell_type": "markdown",
   "metadata": {},
   "source": [
    "**Kickstarter** is a crowdfunding platform where backers could pledge fundings in order to bring a creative project to life. The genre of projects could range from film, music, games, food, or anything under the sun. Since its inception in 2009, it has gained widespread popularity and is now one of the largest crowdfunding platforms out there.\n",
    "\n",
    "But what is a good kickstarter project? What kind of project will give you successful funding? The genre of the project? The funding goal? The level of engagement? The year? Month? Day of week? This project aims to provide insights to a successful kickstarter project by analysing a set of kickstarter projects from 2009 to 2012. "
   ]
  },
  {
   "cell_type": "markdown",
   "metadata": {},
   "source": [
    "## Dataset"
   ]
  },
  {
   "cell_type": "markdown",
   "metadata": {},
   "source": [
    "The dataset consists of 45958 projects, with 16 features, collected from 2009 to 2012.\n",
    "\n",
    "Features:\n",
    "- project id\n",
    "- project name\n",
    "- project url\n",
    "- category \n",
    "- subcategory\n",
    "- location\n",
    "- status\n",
    "- goal\n",
    "- pledged\n",
    "- number of backers\n",
    "- funded date\n",
    "- reward levels\n",
    "- number of reward levels\n",
    "- number of updates\n",
    "- durations\n",
    "- number of comments"
   ]
  },
  {
   "cell_type": "markdown",
   "metadata": {},
   "source": [
    "## Conclusion"
   ]
  },
  {
   "cell_type": "markdown",
   "metadata": {},
   "source": [
    "First, we take a look at how the projects in our datasets do when it comes to achieving success."
   ]
  },
  {
   "cell_type": "markdown",
   "metadata": {},
   "source": [
    "![slide2](./assets/Slide2.JPG)"
   ]
  },
  {
   "cell_type": "markdown",
   "metadata": {},
   "source": [
    "What is the funding a project should set? We take a look at the goals for successful and unsuccessful projects"
   ]
  },
  {
   "cell_type": "markdown",
   "metadata": {},
   "source": [
    "![slide3](./assets/Slide3.JPG)"
   ]
  },
  {
   "cell_type": "markdown",
   "metadata": {},
   "source": [
    "Next, what kind of projects should we pursue? Here, we look at the type of projects and their rates of success."
   ]
  },
  {
   "cell_type": "markdown",
   "metadata": {},
   "source": [
    "![slide4](./assets/Slide4.JPG)"
   ]
  },
  {
   "cell_type": "markdown",
   "metadata": {},
   "source": [
    "Does keeping funding durations longer gives you a higher rate of success? Not really. Here, we examine the success rate and funding with respect to some time variables"
   ]
  },
  {
   "cell_type": "markdown",
   "metadata": {},
   "source": [
    "![slide5](./assets/Slide5.JPG)"
   ]
  },
  {
   "cell_type": "markdown",
   "metadata": {},
   "source": [
    "Keeping the backers engaged is important to getting more backers. Releasing regular updates helps to keep the potential backers engaged. Sometimes, just 1 update makes all the difference."
   ]
  },
  {
   "cell_type": "markdown",
   "metadata": {},
   "source": [
    "![slide6](./assets/Slide6.JPG)"
   ]
  }
 ],
 "metadata": {
  "kernelspec": {
   "display_name": "Python 3",
   "language": "python",
   "name": "python3"
  },
  "language_info": {
   "codemirror_mode": {
    "name": "ipython",
    "version": 3
   },
   "file_extension": ".py",
   "mimetype": "text/x-python",
   "name": "python",
   "nbconvert_exporter": "python",
   "pygments_lexer": "ipython3",
   "version": "3.8.5"
  },
  "toc": {
   "base_numbering": 1,
   "nav_menu": {},
   "number_sections": true,
   "sideBar": true,
   "skip_h1_title": false,
   "title_cell": "Table of Contents",
   "title_sidebar": "Contents",
   "toc_cell": false,
   "toc_position": {},
   "toc_section_display": true,
   "toc_window_display": false
  }
 },
 "nbformat": 4,
 "nbformat_minor": 4
}
